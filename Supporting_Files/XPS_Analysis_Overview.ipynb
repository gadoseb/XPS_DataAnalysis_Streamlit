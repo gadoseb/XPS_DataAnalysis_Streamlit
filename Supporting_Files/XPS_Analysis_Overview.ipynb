{
 "cells": [
  {
   "cell_type": "markdown",
   "metadata": {},
   "source": [
    "# Analyse XPS Data with Python\n",
    "For analysing X-ray Photoelectron Spectroscopy (XPS) data and performing peak fitting in Python, a good approach is to use libraries like numpy, scipy, matplotlib, and lmfit. Here’s an outline of how you can approach this:"
   ]
  },
  {
   "cell_type": "markdown",
   "metadata": {},
   "source": [
    "### 1. Load the XPS Data\n",
    "XPS data usually consists of binding energy (BE) values and intensity counts. If your data is in a CSV or text file, you can use pandas to load it."
   ]
  },
  {
   "cell_type": "code",
   "execution_count": null,
   "metadata": {},
   "outputs": [],
   "source": [
    "import pandas as pd\n",
    "\n",
    "# Load the data assuming columns are \"Binding Energy\" and \"Intensity\"\n",
    "xps_data = pd.read_csv('xps_data.csv')\n",
    "binding_energy = xps_data['Binding Energy']\n",
    "intensity = xps_data['Intensity']"
   ]
  },
  {
   "cell_type": "markdown",
   "metadata": {},
   "source": [
    "### 2. Plot the XPS Data\n",
    "You can use matplotlib to visualize the spectrum."
   ]
  },
  {
   "cell_type": "code",
   "execution_count": null,
   "metadata": {},
   "outputs": [],
   "source": [
    "import matplotlib.pyplot as plt\n",
    "\n",
    "plt.plot(binding_energy, intensity, label='XPS Spectrum')\n",
    "plt.xlabel('Binding Energy (eV)')\n",
    "plt.ylabel('Intensity (a.u.)')\n",
    "plt.legend()\n",
    "plt.show()"
   ]
  },
  {
   "cell_type": "markdown",
   "metadata": {},
   "source": [
    "### 3. Peak Fitting\n",
    "The peaks in XPS can be fitted using Gaussian, Lorentzian, or Voigt profiles. A combination of these is typically used to fit overlapping peaks. `scipy.optimize.curve_fit` or `lmfit` can help with non-linear curve fitting. For Gaussian fitting:"
   ]
  },
  {
   "cell_type": "code",
   "execution_count": null,
   "metadata": {},
   "outputs": [],
   "source": [
    "import numpy as np\n",
    "from scipy.optimize import curve_fit\n",
    "\n",
    "# Gaussian function definition\n",
    "def gaussian(x, amp, cen, width):\n",
    "    return amp * np.exp(-(x - cen)**2 / (2 * width**2))\n",
    "\n",
    "# Guess initial parameters for fitting\n",
    "initial_guess = [max(intensity), binding_energy[np.argmax(intensity)], 1.0]\n",
    "\n",
    "# Perform the fit\n",
    "popt, pcov = curve_fit(gaussian, binding_energy, intensity, p0=initial_guess)\n",
    "\n",
    "# Plot the fit\n",
    "fit_intensity = gaussian(binding_energy, *popt)\n",
    "plt.plot(binding_energy, intensity, label='XPS Spectrum')\n",
    "plt.plot(binding_energy, fit_intensity, label='Fitted Peak', linestyle='--')\n",
    "plt.xlabel('Binding Energy (eV)')\n",
    "plt.ylabel('Intensity (a.u.)')\n",
    "plt.legend()\n",
    "plt.show()"
   ]
  },
  {
   "cell_type": "markdown",
   "metadata": {},
   "source": [
    "For multiple peaks, you can define a sum of Gaussians or Lorentzians and fit them:"
   ]
  },
  {
   "cell_type": "code",
   "execution_count": null,
   "metadata": {},
   "outputs": [],
   "source": [
    "# Define a sum of Gaussians for multiple peak fitting\n",
    "def multiple_gaussians(x, *params):\n",
    "    y = np.zeros_like(x)\n",
    "    for i in range(0, len(params), 3):\n",
    "        amp, cen, width = params[i:i+3]\n",
    "        y += gaussian(x, amp, cen, width)\n",
    "    return y\n",
    "\n",
    "# Initial guesses for multiple peaks (amp1, cen1, width1, amp2, cen2, width2, ...)\n",
    "initial_guess = [max(intensity), binding_energy[np.argmax(intensity)], 1.0, \n",
    "                 0.5 * max(intensity), binding_energy[np.argmax(intensity)] - 2, 1.0]\n",
    "\n",
    "# Perform the fit\n",
    "popt, pcov = curve_fit(multiple_gaussians, binding_energy, intensity, p0=initial_guess)\n",
    "\n",
    "# Plot the fit\n",
    "fit_intensity = multiple_gaussians(binding_energy, *popt)\n",
    "plt.plot(binding_energy, intensity, label='XPS Spectrum')\n",
    "plt.plot(binding_energy, fit_intensity, label='Fitted Peaks', linestyle='--')\n",
    "plt.xlabel('Binding Energy (eV)')\n",
    "plt.ylabel('Intensity (a.u.)')\n",
    "plt.legend()\n",
    "plt.show()"
   ]
  },
  {
   "cell_type": "markdown",
   "metadata": {},
   "source": [
    "### 4. Optimization Tools\n",
    "You can also use `lmfit` for better parameter control and uncertainty estimates."
   ]
  },
  {
   "cell_type": "markdown",
   "metadata": {},
   "source": [
    "## Step-by-step `lmfit`\n",
    "\n",
    "Install the package:\n",
    "\n",
    "`pip install lmfit`\n",
    "\n",
    "### 1. Defining the Peak Model\n",
    "You can use lmfit.Model to define a peak (e.g., Gaussian, Lorentzian, or Voigt). For XPS data, peaks are commonly fitted with Gaussian or Lorentzian functions, or a mix of both (Voigt).\n",
    "\n",
    "Here’s an example of using a Gaussian model:"
   ]
  },
  {
   "cell_type": "code",
   "execution_count": null,
   "metadata": {},
   "outputs": [],
   "source": [
    "import numpy as np\n",
    "import matplotlib.pyplot as plt\n",
    "import pandas as pd\n",
    "from lmfit.models import GaussianModel, LorentzianModel\n",
    "\n",
    "# Load the XPS data\n",
    "xps_data = pd.read_csv('xps_data.csv')\n",
    "binding_energy = xps_data['Binding Energy']\n",
    "intensity = xps_data['Intensity']\n",
    "\n",
    "# Create a Gaussian model\n",
    "gaussian_model = GaussianModel()\n",
    "\n",
    "# Set initial parameters: amplitude, center, and sigma (width)\n",
    "params = gaussian_model.make_params(amplitude=max(intensity), center=binding_energy[np.argmax(intensity)], sigma=1.0)\n",
    "\n",
    "# Perform the fit\n",
    "result = gaussian_model.fit(intensity, params, x=binding_energy)\n",
    "\n",
    "# Plot the original data and the fit\n",
    "plt.plot(binding_energy, intensity, label='XPS Spectrum')\n",
    "plt.plot(binding_energy, result.best_fit, label='Gaussian Fit', linestyle='--')\n",
    "plt.xlabel('Binding Energy (eV)')\n",
    "plt.ylabel('Intensity (a.u.)')\n",
    "plt.legend()\n",
    "plt.show()\n",
    "\n",
    "# Print the fitting report\n",
    "print(result.fit_report())"
   ]
  },
  {
   "cell_type": "markdown",
   "metadata": {},
   "source": [
    "### 2. Fitting Multiple Peaks (Composite Model)\n",
    "For complex spectra with multiple peaks, you can combine multiple models (e.g., a combination of Gaussian and Lorentzian functions). Here’s an example of fitting a spectrum with two Gaussian peaks:"
   ]
  },
  {
   "cell_type": "code",
   "execution_count": null,
   "metadata": {},
   "outputs": [],
   "source": [
    "from lmfit import Model\n",
    "from lmfit.models import GaussianModel, LorentzianModel\n",
    "\n",
    "# Create a model composed of two Gaussian peaks\n",
    "gauss1 = GaussianModel(prefix='g1_')\n",
    "gauss2 = GaussianModel(prefix='g2_')\n",
    "\n",
    "# Composite model\n",
    "model = gauss1 + gauss2\n",
    "\n",
    "# Make parameters for the two Gaussian peaks\n",
    "params = model.make_params()\n",
    "\n",
    "# Set initial guesses for the two peaks\n",
    "params['g1_amplitude'].set(value=max(intensity), min=0)\n",
    "params['g1_center'].set(value=binding_energy[np.argmax(intensity)], min=min(binding_energy), max=max(binding_energy))\n",
    "params['g1_sigma'].set(value=1, min=0)\n",
    "\n",
    "params['g2_amplitude'].set(value=0.5 * max(intensity), min=0)\n",
    "params['g2_center'].set(value=binding_energy[np.argmax(intensity)] - 2, min=min(binding_energy), max=max(binding_energy))\n",
    "params['g2_sigma'].set(value=1, min=0)\n",
    "\n",
    "# Perform the fit\n",
    "result = model.fit(intensity, params, x=binding_energy)\n",
    "\n",
    "# Plot the data and the fits\n",
    "plt.plot(binding_energy, intensity, label='XPS Spectrum')\n",
    "plt.plot(binding_energy, result.best_fit, label='Composite Fit', linestyle='--')\n",
    "\n",
    "# Plot each individual component\n",
    "plt.plot(binding_energy, result.eval_components()['g1_'], label='Peak 1', linestyle=':')\n",
    "plt.plot(binding_energy, result.eval_components()['g2_'], label='Peak 2', linestyle=':')\n",
    "\n",
    "plt.xlabel('Binding Energy (eV)')\n",
    "plt.ylabel('Intensity (a.u.)')\n",
    "plt.legend()\n",
    "plt.show()\n",
    "\n",
    "# Print the fitting report\n",
    "print(result.fit_report())"
   ]
  },
  {
   "cell_type": "markdown",
   "metadata": {},
   "source": [
    "### 3. Fitting Voigt Peaks (Lorentzian + Gaussian)\n",
    "If you need to fit Voigt peaks (which combine Gaussian and Lorentzian), you can modify the model like this:"
   ]
  },
  {
   "cell_type": "code",
   "execution_count": null,
   "metadata": {},
   "outputs": [],
   "source": [
    "from lmfit.models import VoigtModel\n",
    "\n",
    "# Create two Voigt models\n",
    "voigt1 = VoigtModel(prefix='v1_')\n",
    "voigt2 = VoigtModel(prefix='v2_')\n",
    "\n",
    "# Composite model\n",
    "model = voigt1 + voigt2\n",
    "\n",
    "# Make parameters for the two Voigt peaks\n",
    "params = model.make_params()\n",
    "\n",
    "# Set initial guesses for the two peaks\n",
    "params['v1_amplitude'].set(value=max(intensity), min=0)\n",
    "params['v1_center'].set(value=binding_energy[np.argmax(intensity)], min=min(binding_energy), max=max(binding_energy))\n",
    "params['v1_sigma'].set(value=1, min=0)\n",
    "params['v1_gamma'].set(value=1, min=0)  # Voigt has an additional 'gamma' parameter for Lorentzian contribution\n",
    "\n",
    "params['v2_amplitude'].set(value=0.5 * max(intensity), min=0)\n",
    "params['v2_center'].set(value=binding_energy[np.argmax(intensity)] - 2, min=min(binding_energy), max=max(binding_energy))\n",
    "params['v2_sigma'].set(value=1, min=0)\n",
    "params['v2_gamma'].set(value=1, min=0)\n",
    "\n",
    "# Perform the fit\n",
    "result = model.fit(intensity, params, x=binding_energy)\n",
    "\n",
    "# Plot the data and the fits\n",
    "plt.plot(binding_energy, intensity, label='XPS Spectrum')\n",
    "plt.plot(binding_energy, result.best_fit, label='Composite Voigt Fit', linestyle='--')\n",
    "\n",
    "# Plot each individual component\n",
    "plt.plot(binding_energy, result.eval_components()['v1_'], label='Voigt Peak 1', linestyle=':')\n",
    "plt.plot(binding_energy, result.eval_components()['v2_'], label='Voigt Peak 2', linestyle=':')\n",
    "\n",
    "plt.xlabel('Binding Energy (eV)')\n",
    "plt.ylabel('Intensity (a.u.)')\n",
    "plt.legend()\n",
    "plt.show()\n",
    "\n",
    "# Print the fitting report\n",
    "print(result.fit_report())"
   ]
  },
  {
   "cell_type": "markdown",
   "metadata": {},
   "source": [
    "### 4. Output & Interpretation\n",
    "- The `fit_report()` gives you a summary of the fit, including parameter values, uncertainties, and goodness-of-fit metrics like the reduced chi-square.\n",
    "- You can further fine-tune the model by adding constraints to parameters (e.g., fixing the position of a known peak).\n",
    "\n",
    "This method is robust and allows detailed fitting, even for complex overlapping peaks."
   ]
  },
  {
   "cell_type": "markdown",
   "metadata": {},
   "source": [
    "## Working with `.xlsx` Files\n",
    "\n",
    "### 1. Loading Data from Excel with Multiple Sheets\n",
    "You can use `pandas.read_excel()` to load data from specific sheets or all sheets in an Excel file."
   ]
  },
  {
   "cell_type": "code",
   "execution_count": null,
   "metadata": {},
   "outputs": [],
   "source": [
    "import pandas as pd\n",
    "\n",
    "# Load the Excel file, specifying the sheet name if needed\n",
    "# To load a specific sheet\n",
    "xps_data = pd.read_excel('xps_data.xlsx', sheet_name='Sheet1')\n",
    "\n",
    "# If you want to load all sheets\n",
    "all_sheets = pd.read_excel('xps_data.xlsx', sheet_name=None)\n",
    "\n",
    "# Access a specific sheet from the dictionary of sheets\n",
    "sheet1_data = all_sheets['Sheet1']\n",
    "\n",
    "# Assuming 'Binding Energy' and 'Intensity' columns are present in the sheet\n",
    "binding_energy = sheet1_data['Binding Energy']\n",
    "intensity = sheet1_data['Intensity']"
   ]
  },
  {
   "cell_type": "markdown",
   "metadata": {},
   "source": [
    "### 2. Working with Multiple Sheets\n",
    "If you need to loop through all sheets and apply peak fitting to each one:"
   ]
  },
  {
   "cell_type": "code",
   "execution_count": null,
   "metadata": {},
   "outputs": [],
   "source": [
    "for sheet_name, sheet_data in all_sheets.items():\n",
    "    binding_energy = sheet_data['Binding Energy']\n",
    "    intensity = sheet_data['Intensity']\n",
    "    \n",
    "    # Perform your peak fitting (code from previous steps) here\n",
    "    print(f\"Fitting for sheet: {sheet_name}\")\n",
    "    \n",
    "    # Example of Gaussian fitting for each sheet\n",
    "    result = gaussian_model.fit(intensity, params, x=binding_energy)\n",
    "    \n",
    "    # Plot the results for each sheet\n",
    "    plt.plot(binding_energy, intensity, label=f'{sheet_name} XPS Spectrum')\n",
    "    plt.plot(binding_energy, result.best_fit, label=f'{sheet_name} Gaussian Fit', linestyle='--')\n",
    "    plt.xlabel('Binding Energy (eV)')\n",
    "    plt.ylabel('Intensity (a.u.)')\n",
    "    plt.legend()\n",
    "    plt.show()\n",
    "\n",
    "    # Print the fit report\n",
    "    print(result.fit_report())"
   ]
  },
  {
   "cell_type": "markdown",
   "metadata": {},
   "source": [
    "### 3. Combining Multiple Sheets into One Analysis\n",
    "If you want to combine data from all sheets into one larger dataset (for instance, if the sheets represent different regions of the same material):"
   ]
  },
  {
   "cell_type": "code",
   "execution_count": null,
   "metadata": {},
   "outputs": [],
   "source": [
    "combined_data = pd.concat(all_sheets.values())\n",
    "binding_energy_combined = combined_data['Binding Energy']\n",
    "intensity_combined = combined_data['Intensity']\n",
    "\n",
    "# Perform your peak fitting on the combined dataset\n",
    "result = gaussian_model.fit(intensity_combined, params, x=binding_energy_combined)\n",
    "\n",
    "# Plot the combined result\n",
    "plt.plot(binding_energy_combined, intensity_combined, label='Combined XPS Spectrum')\n",
    "plt.plot(binding_energy_combined, result.best_fit, label='Combined Gaussian Fit', linestyle='--')\n",
    "plt.xlabel('Binding Energy (eV)')\n",
    "plt.ylabel('Intensity (a.u.)')\n",
    "plt.legend()\n",
    "plt.show()\n",
    "\n",
    "# Print the combined fit report\n",
    "print(result.fit_report())"
   ]
  },
  {
   "cell_type": "markdown",
   "metadata": {},
   "source": [
    "### 4. Saving Results to a New Excel File\n",
    "If you need to save the fit results for each sheet back into an Excel file:"
   ]
  },
  {
   "cell_type": "code",
   "execution_count": null,
   "metadata": {},
   "outputs": [],
   "source": [
    "# Create a dictionary to store fit reports\n",
    "fit_reports = {}\n",
    "\n",
    "for sheet_name, sheet_data in all_sheets.items():\n",
    "    binding_energy = sheet_data['Binding Energy']\n",
    "    intensity = sheet_data['Intensity']\n",
    "    \n",
    "    # Perform the fit\n",
    "    result = gaussian_model.fit(intensity, params, x=binding_energy)\n",
    "    \n",
    "    # Save the fit report for each sheet\n",
    "    fit_reports[sheet_name] = result.fit_report()\n",
    "\n",
    "# Convert the fit reports to a DataFrame and save them to a new Excel file\n",
    "fit_reports_df = pd.DataFrame.from_dict(fit_reports, orient='index')\n",
    "fit_reports_df.to_excel('fit_reports.xlsx')"
   ]
  },
  {
   "cell_type": "markdown",
   "metadata": {},
   "source": []
  }
 ],
 "metadata": {
  "language_info": {
   "name": "python"
  }
 },
 "nbformat": 4,
 "nbformat_minor": 2
}
